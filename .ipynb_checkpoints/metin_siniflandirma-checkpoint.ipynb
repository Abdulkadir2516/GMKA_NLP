{
 "cells": [
  {
   "cell_type": "code",
   "execution_count": 44,
   "id": "79fe0eb0",
   "metadata": {},
   "outputs": [],
   "source": [
    "import pandas as pd\n",
    "import on_islem\n",
    "from sklearn.model_selection import train_test_split\n",
    "from sklearn.svm import LinearSVC\n",
    "from sklearn.pipeline import Pipeline\n",
    "from sklearn.feature_extraction.text import TfidfVectorizer\n",
    "from sklearn.metrics import f1_score, accuracy_score, ConfusionMatrixDisplay, confusion_matrix\n",
    "from gensim.models import Word2Vec\n",
    "from sklearn.neighbors import KNeighborsClassifier\n",
    "\n"
   ]
  },
  {
   "cell_type": "code",
   "execution_count": 5,
   "id": "530b2f1b",
   "metadata": {},
   "outputs": [
    {
     "data": {
      "text/html": [
       "<div>\n",
       "<style scoped>\n",
       "    .dataframe tbody tr th:only-of-type {\n",
       "        vertical-align: middle;\n",
       "    }\n",
       "\n",
       "    .dataframe tbody tr th {\n",
       "        vertical-align: top;\n",
       "    }\n",
       "\n",
       "    .dataframe thead th {\n",
       "        text-align: right;\n",
       "    }\n",
       "</style>\n",
       "<table border=\"1\" class=\"dataframe\">\n",
       "  <thead>\n",
       "    <tr style=\"text-align: right;\">\n",
       "      <th></th>\n",
       "      <th>Text</th>\n",
       "      <th>Label</th>\n",
       "      <th>Text_2</th>\n",
       "      <th>Text_3</th>\n",
       "    </tr>\n",
       "  </thead>\n",
       "  <tbody>\n",
       "    <tr>\n",
       "      <th>0</th>\n",
       "      <td>Allah'ım çıldıracağım. Yemin ederim çıldıracağ...</td>\n",
       "      <td>kızgın</td>\n",
       "      <td>[allah', çıldıracağım., ye, eder, çıldıracak, ...</td>\n",
       "      <td>allah' çıldıracağım. ye eder çıldıracak siniri...</td>\n",
       "    </tr>\n",
       "    <tr>\n",
       "      <th>1</th>\n",
       "      <td>site ne zaman çalıştıda ürün stokları bitti di...</td>\n",
       "      <td>kızgın</td>\n",
       "      <td>[si, zama, çalıştı, ür, stok, bit, diyor, mal,...</td>\n",
       "      <td>si zama çalıştı ür stok bit diyor mal oğl kand...</td>\n",
       "    </tr>\n",
       "    <tr>\n",
       "      <th>2</th>\n",
       "      <td>Sebebi neydi ki diye bağıracağım şimdi az kaldı</td>\n",
       "      <td>kızgın</td>\n",
       "      <td>[sebep, di, bağıracak, kal]</td>\n",
       "      <td>sebep di bağıracak kal</td>\n",
       "    </tr>\n",
       "    <tr>\n",
       "      <th>3</th>\n",
       "      <td>Black friday ne amk bu yıl çıkardınız bu bokud...</td>\n",
       "      <td>kızgın</td>\n",
       "      <td>[black, friday, amk, yıl, çıkar, boku, mal, ne...</td>\n",
       "      <td>black friday amk yıl çıkar boku mal nesiniz.</td>\n",
       "    </tr>\n",
       "    <tr>\n",
       "      <th>4</th>\n",
       "      <td>kısa kısa cevaplar vericeksen niye yazıyorsun ...</td>\n",
       "      <td>kızgın</td>\n",
       "      <td>[kıs, kıs, cevap, vericek, ni, yazıyor, gerize...</td>\n",
       "      <td>kıs kıs cevap vericek ni yazıyor gerizekal</td>\n",
       "    </tr>\n",
       "  </tbody>\n",
       "</table>\n",
       "</div>"
      ],
      "text/plain": [
       "                                                Text   Label  \\\n",
       "0  Allah'ım çıldıracağım. Yemin ederim çıldıracağ...  kızgın   \n",
       "1  site ne zaman çalıştıda ürün stokları bitti di...  kızgın   \n",
       "2    Sebebi neydi ki diye bağıracağım şimdi az kaldı  kızgın   \n",
       "3  Black friday ne amk bu yıl çıkardınız bu bokud...  kızgın   \n",
       "4  kısa kısa cevaplar vericeksen niye yazıyorsun ...  kızgın   \n",
       "\n",
       "                                              Text_2  \\\n",
       "0  [allah', çıldıracağım., ye, eder, çıldıracak, ...   \n",
       "1  [si, zama, çalıştı, ür, stok, bit, diyor, mal,...   \n",
       "2                        [sebep, di, bağıracak, kal]   \n",
       "3  [black, friday, amk, yıl, çıkar, boku, mal, ne...   \n",
       "4  [kıs, kıs, cevap, vericek, ni, yazıyor, gerize...   \n",
       "\n",
       "                                              Text_3  \n",
       "0  allah' çıldıracağım. ye eder çıldıracak siniri...  \n",
       "1  si zama çalıştı ür stok bit diyor mal oğl kand...  \n",
       "2                             sebep di bağıracak kal  \n",
       "3       black friday amk yıl çıkar boku mal nesiniz.  \n",
       "4         kıs kıs cevap vericek ni yazıyor gerizekal  "
      ]
     },
     "execution_count": 5,
     "metadata": {},
     "output_type": "execute_result"
    }
   ],
   "source": [
    "df = pd.read_csv(\"data/metin_siniflandirma.csv\", index_col=0)\n",
    "df[\"Text_2\"] = df[\"Text\"].apply(on_islem.pre_processing)\n",
    "df[\"Text_2\"] = df[\"Text_2\"].apply(on_islem.remove_space)\n",
    "df[\"Text_3\"] = [' '.join(wrd for wrd in x)for x in df[\"Text_2\"]]\n",
    "\n",
    "df_index = df[df[\"Text_2\"].str[0].isnull()].index\n",
    "df = df.drop(df_index)\n",
    "df = df.reset_index()\n",
    "del df[\"index\"]\n",
    "df.head()"
   ]
  },
  {
   "cell_type": "code",
   "execution_count": 7,
   "id": "630780e0",
   "metadata": {},
   "outputs": [
    {
     "data": {
      "text/plain": [
       "Label\n",
       "korku      800\n",
       "kızgın     799\n",
       "mutlu      800\n",
       "surpriz    800\n",
       "üzgün      799\n",
       "dtype: int64"
      ]
     },
     "execution_count": 7,
     "metadata": {},
     "output_type": "execute_result"
    }
   ],
   "source": [
    "df.groupby(\"Label\").size()"
   ]
  },
  {
   "cell_type": "code",
   "execution_count": 9,
   "id": "558b01c5",
   "metadata": {},
   "outputs": [],
   "source": [
    "msg_train, msg_test, label_train, label_test = train_test_split(df[\"Text_3\"].tolist(), df[\"Label\"].tolist(), test_size=0.2, random_state=42)"
   ]
  },
  {
   "cell_type": "code",
   "execution_count": 10,
   "id": "d9d10ffa",
   "metadata": {},
   "outputs": [
    {
     "data": {
      "text/plain": [
       "800"
      ]
     },
     "execution_count": 10,
     "metadata": {},
     "output_type": "execute_result"
    }
   ],
   "source": [
    "len(msg_test)"
   ]
  },
  {
   "cell_type": "code",
   "execution_count": 13,
   "id": "870d3e21",
   "metadata": {},
   "outputs": [
    {
     "data": {
      "text/plain": [
       "3198"
      ]
     },
     "execution_count": 13,
     "metadata": {},
     "output_type": "execute_result"
    }
   ],
   "source": [
    "len(msg_train)"
   ]
  },
  {
   "cell_type": "code",
   "execution_count": 11,
   "id": "9de42c60",
   "metadata": {},
   "outputs": [
    {
     "data": {
      "text/plain": [
       "3198"
      ]
     },
     "execution_count": 11,
     "metadata": {},
     "output_type": "execute_result"
    }
   ],
   "source": [
    "len(label_train)"
   ]
  },
  {
   "cell_type": "code",
   "execution_count": 12,
   "id": "2de1e8b7",
   "metadata": {},
   "outputs": [
    {
     "data": {
      "text/plain": [
       "800"
      ]
     },
     "execution_count": 12,
     "metadata": {},
     "output_type": "execute_result"
    }
   ],
   "source": [
    "len(label_test)"
   ]
  },
  {
   "cell_type": "code",
   "execution_count": 16,
   "id": "02999c1d",
   "metadata": {},
   "outputs": [
    {
     "data": {
      "text/plain": [
       "Label\n",
       "korku      164\n",
       "kızgın     169\n",
       "mutlu      160\n",
       "surpriz    155\n",
       "üzgün      152\n",
       "dtype: int64"
      ]
     },
     "execution_count": 16,
     "metadata": {},
     "output_type": "execute_result"
    }
   ],
   "source": [
    "df_test = pd.DataFrame({\"Text\":msg_test, \"Label\":label_test})\n",
    "df_test.groupby(\"Label\").size()"
   ]
  },
  {
   "cell_type": "code",
   "execution_count": 19,
   "id": "11816dc8",
   "metadata": {},
   "outputs": [],
   "source": [
    "svm = Pipeline([(\"vect\",TfidfVectorizer()),('svm',LinearSVC())])"
   ]
  },
  {
   "cell_type": "code",
   "execution_count": 20,
   "id": "b5bea31c",
   "metadata": {},
   "outputs": [],
   "source": [
    "svm.fit(msg_train,label_train)\n",
    "y_pred_class = svm.predict(msg_test)"
   ]
  },
  {
   "cell_type": "code",
   "execution_count": 22,
   "id": "11009bdc",
   "metadata": {},
   "outputs": [
    {
     "name": "stdout",
     "output_type": "stream",
     "text": [
      "svm accuracy score: 0.98\n"
     ]
    }
   ],
   "source": [
    "print(\"svm accuracy score:\", accuracy_score(label_test,y_pred_class))"
   ]
  },
  {
   "cell_type": "code",
   "execution_count": 23,
   "id": "9a1e1f2c",
   "metadata": {},
   "outputs": [
    {
     "name": "stdout",
     "output_type": "stream",
     "text": [
      "svm accuracy score: 0.9800012002533918\n"
     ]
    }
   ],
   "source": [
    "print(\"svm accuracy score:\", f1_score(label_test,y_pred_class,average=\"weighted\"))"
   ]
  },
  {
   "cell_type": "code",
   "execution_count": 24,
   "id": "4b252884",
   "metadata": {},
   "outputs": [
    {
     "data": {
      "text/plain": [
       "800"
      ]
     },
     "execution_count": 24,
     "metadata": {},
     "output_type": "execute_result"
    }
   ],
   "source": [
    "len(label_test)"
   ]
  },
  {
   "cell_type": "code",
   "execution_count": 26,
   "id": "80ee9182",
   "metadata": {},
   "outputs": [
    {
     "data": {
      "text/plain": [
       "784.0"
      ]
     },
     "execution_count": 26,
     "metadata": {},
     "output_type": "execute_result"
    }
   ],
   "source": [
    "800*0.98"
   ]
  },
  {
   "cell_type": "code",
   "execution_count": 32,
   "id": "46db6c9e",
   "metadata": {},
   "outputs": [
    {
     "data": {
      "text/plain": [
       "<sklearn.metrics._plot.confusion_matrix.ConfusionMatrixDisplay at 0x1f9a75da1d0>"
      ]
     },
     "execution_count": 32,
     "metadata": {},
     "output_type": "execute_result"
    },
    {
     "data": {
      "image/png": "[encoded data removed]",
      "text/plain": [
       "<Figure size 640x480 with 2 Axes>"
      ]
     },
     "metadata": {},
     "output_type": "display_data"
    }
   ],
   "source": [
    "cm = confusion_matrix(label_test,y_pred_class, labels=svm.classes_)\n",
    "disp = ConfusionMatrixDisplay(confusion_matrix=cm, display_labels=svm.classes_)\n",
    "disp.plot()"
   ]
  },
  {
   "cell_type": "code",
   "execution_count": 33,
   "id": "81701fe8",
   "metadata": {},
   "outputs": [
    {
     "data": {
      "text/plain": [
       "array(['üzgün'], dtype='<U7')"
      ]
     },
     "execution_count": 33,
     "metadata": {},
     "output_type": "execute_result"
    }
   ],
   "source": [
    "msg_test_2=[\"Ben biraz kötü gibiyim\"]\n",
    "y_pred_class = svm.predict(msg_test_2)\n",
    "y_pred_class"
   ]
  },
  {
   "cell_type": "code",
   "execution_count": null,
   "id": "34fe8b30",
   "metadata": {},
   "outputs": [],
   "source": [
    "model = Word2Vec.load(\"data/word2vec.model\")\n",
    "model.build_vocab(df[\"Text_2\"].tolist(),update=True)\n",
    "model.save(\"data/word2vec.model\")"
   ]
  },
  {
   "cell_type": "code",
   "execution_count": 38,
   "id": "b8343618",
   "metadata": {},
   "outputs": [
    {
     "data": {
      "text/html": [
       "<div>\n",
       "<style scoped>\n",
       "    .dataframe tbody tr th:only-of-type {\n",
       "        vertical-align: middle;\n",
       "    }\n",
       "\n",
       "    .dataframe tbody tr th {\n",
       "        vertical-align: top;\n",
       "    }\n",
       "\n",
       "    .dataframe thead th {\n",
       "        text-align: right;\n",
       "    }\n",
       "</style>\n",
       "<table border=\"1\" class=\"dataframe\">\n",
       "  <thead>\n",
       "    <tr style=\"text-align: right;\">\n",
       "      <th></th>\n",
       "      <th>Text</th>\n",
       "      <th>Label</th>\n",
       "      <th>Text_2</th>\n",
       "      <th>Text_3</th>\n",
       "      <th>word2vec</th>\n",
       "    </tr>\n",
       "  </thead>\n",
       "  <tbody>\n",
       "    <tr>\n",
       "      <th>0</th>\n",
       "      <td>Allah'ım çıldıracağım. Yemin ederim çıldıracağ...</td>\n",
       "      <td>kızgın</td>\n",
       "      <td>[allah', çıldıracağım., ye, eder, çıldıracak, ...</td>\n",
       "      <td>allah' çıldıracağım. ye eder çıldıracak siniri...</td>\n",
       "      <td>[-0.006689665839076042, 0.012714986689388752, ...</td>\n",
       "    </tr>\n",
       "    <tr>\n",
       "      <th>1</th>\n",
       "      <td>site ne zaman çalıştıda ürün stokları bitti di...</td>\n",
       "      <td>kızgın</td>\n",
       "      <td>[si, zama, çalıştı, ür, stok, bit, diyor, mal,...</td>\n",
       "      <td>si zama çalıştı ür stok bit diyor mal oğl kand...</td>\n",
       "      <td>[-0.004757799208164215, 0.0037373811937868595,...</td>\n",
       "    </tr>\n",
       "    <tr>\n",
       "      <th>2</th>\n",
       "      <td>Sebebi neydi ki diye bağıracağım şimdi az kaldı</td>\n",
       "      <td>kızgın</td>\n",
       "      <td>[sebep, di, bağıracak, kal]</td>\n",
       "      <td>sebep di bağıracak kal</td>\n",
       "      <td>[-0.004013266414403915, 0.005941991228610277, ...</td>\n",
       "    </tr>\n",
       "    <tr>\n",
       "      <th>3</th>\n",
       "      <td>Black friday ne amk bu yıl çıkardınız bu bokud...</td>\n",
       "      <td>kızgın</td>\n",
       "      <td>[black, friday, amk, yıl, çıkar, boku, mal, ne...</td>\n",
       "      <td>black friday amk yıl çıkar boku mal nesiniz.</td>\n",
       "      <td>[-0.0005618534050881863, 0.010154695250093937,...</td>\n",
       "    </tr>\n",
       "    <tr>\n",
       "      <th>4</th>\n",
       "      <td>kısa kısa cevaplar vericeksen niye yazıyorsun ...</td>\n",
       "      <td>kızgın</td>\n",
       "      <td>[kıs, kıs, cevap, vericek, ni, yazıyor, gerize...</td>\n",
       "      <td>kıs kıs cevap vericek ni yazıyor gerizekal</td>\n",
       "      <td>[-0.0038584801368415356, 0.008073640987277031,...</td>\n",
       "    </tr>\n",
       "    <tr>\n",
       "      <th>...</th>\n",
       "      <td>...</td>\n",
       "      <td>...</td>\n",
       "      <td>...</td>\n",
       "      <td>...</td>\n",
       "      <td>...</td>\n",
       "    </tr>\n",
       "    <tr>\n",
       "      <th>3993</th>\n",
       "      <td>Aynı şeyleri yapmaktan sıkıldım</td>\n",
       "      <td>üzgün</td>\n",
       "      <td>[aynı, sıkıl]</td>\n",
       "      <td>aynı sıkıl</td>\n",
       "      <td>[-0.008477714844048023, 0.0058470843359827995,...</td>\n",
       "    </tr>\n",
       "    <tr>\n",
       "      <th>3994</th>\n",
       "      <td>Olacağı varsa oluyor ya hani, biteceği varsa d...</td>\n",
       "      <td>üzgün</td>\n",
       "      <td>[olacak, hani,, bitecek, bitsin., yorul]</td>\n",
       "      <td>olacak hani, bitecek bitsin. yorul</td>\n",
       "      <td>[-0.000999778276309371, 0.0068456800654530525,...</td>\n",
       "    </tr>\n",
       "    <tr>\n",
       "      <th>3995</th>\n",
       "      <td>Çok şey istiyorum ama sonu hep fiyasko MUTSUZUM</td>\n",
       "      <td>üzgün</td>\n",
       "      <td>[istiyor, am, so, fiyasko, mutsuz]</td>\n",
       "      <td>istiyor am so fiyasko mutsuz</td>\n",
       "      <td>[-0.00611127819865942, 0.012579347006976604, 0...</td>\n",
       "    </tr>\n",
       "    <tr>\n",
       "      <th>3996</th>\n",
       "      <td>Garip bir şekilde canım çok yanıyor moralim bozuk</td>\n",
       "      <td>üzgün</td>\n",
       "      <td>[garip, şekil, ca, yanıyor, moral, bozuk]</td>\n",
       "      <td>garip şekil ca yanıyor moral bozuk</td>\n",
       "      <td>[-0.004946801345795393, 0.0073295957408845425,...</td>\n",
       "    </tr>\n",
       "    <tr>\n",
       "      <th>3997</th>\n",
       "      <td>Üzgünüm birazdan takipten çıkarıp hesabımı giz...</td>\n",
       "      <td>üzgün</td>\n",
       "      <td>[üzgü, biraz, takip, çıkarıp, hesap, gizli, al...</td>\n",
       "      <td>üzgü biraz takip çıkarıp hesap gizli alıcak da...</td>\n",
       "      <td>[-0.011349634267389774, 0.012239346280694008, ...</td>\n",
       "    </tr>\n",
       "  </tbody>\n",
       "</table>\n",
       "<p>3998 rows × 5 columns</p>\n",
       "</div>"
      ],
      "text/plain": [
       "                                                   Text   Label  \\\n",
       "0     Allah'ım çıldıracağım. Yemin ederim çıldıracağ...  kızgın   \n",
       "1     site ne zaman çalıştıda ürün stokları bitti di...  kızgın   \n",
       "2       Sebebi neydi ki diye bağıracağım şimdi az kaldı  kızgın   \n",
       "3     Black friday ne amk bu yıl çıkardınız bu bokud...  kızgın   \n",
       "4     kısa kısa cevaplar vericeksen niye yazıyorsun ...  kızgın   \n",
       "...                                                 ...     ...   \n",
       "3993                    Aynı şeyleri yapmaktan sıkıldım   üzgün   \n",
       "3994  Olacağı varsa oluyor ya hani, biteceği varsa d...   üzgün   \n",
       "3995    Çok şey istiyorum ama sonu hep fiyasko MUTSUZUM   üzgün   \n",
       "3996  Garip bir şekilde canım çok yanıyor moralim bozuk   üzgün   \n",
       "3997  Üzgünüm birazdan takipten çıkarıp hesabımı giz...   üzgün   \n",
       "\n",
       "                                                 Text_2  \\\n",
       "0     [allah', çıldıracağım., ye, eder, çıldıracak, ...   \n",
       "1     [si, zama, çalıştı, ür, stok, bit, diyor, mal,...   \n",
       "2                           [sebep, di, bağıracak, kal]   \n",
       "3     [black, friday, amk, yıl, çıkar, boku, mal, ne...   \n",
       "4     [kıs, kıs, cevap, vericek, ni, yazıyor, gerize...   \n",
       "...                                                 ...   \n",
       "3993                                      [aynı, sıkıl]   \n",
       "3994           [olacak, hani,, bitecek, bitsin., yorul]   \n",
       "3995                 [istiyor, am, so, fiyasko, mutsuz]   \n",
       "3996          [garip, şekil, ca, yanıyor, moral, bozuk]   \n",
       "3997  [üzgü, biraz, takip, çıkarıp, hesap, gizli, al...   \n",
       "\n",
       "                                                 Text_3  \\\n",
       "0     allah' çıldıracağım. ye eder çıldıracak siniri...   \n",
       "1     si zama çalıştı ür stok bit diyor mal oğl kand...   \n",
       "2                                sebep di bağıracak kal   \n",
       "3          black friday amk yıl çıkar boku mal nesiniz.   \n",
       "4            kıs kıs cevap vericek ni yazıyor gerizekal   \n",
       "...                                                 ...   \n",
       "3993                                         aynı sıkıl   \n",
       "3994                 olacak hani, bitecek bitsin. yorul   \n",
       "3995                       istiyor am so fiyasko mutsuz   \n",
       "3996                 garip şekil ca yanıyor moral bozuk   \n",
       "3997  üzgü biraz takip çıkarıp hesap gizli alıcak da...   \n",
       "\n",
       "                                               word2vec  \n",
       "0     [-0.006689665839076042, 0.012714986689388752, ...  \n",
       "1     [-0.004757799208164215, 0.0037373811937868595,...  \n",
       "2     [-0.004013266414403915, 0.005941991228610277, ...  \n",
       "3     [-0.0005618534050881863, 0.010154695250093937,...  \n",
       "4     [-0.0038584801368415356, 0.008073640987277031,...  \n",
       "...                                                 ...  \n",
       "3993  [-0.008477714844048023, 0.0058470843359827995,...  \n",
       "3994  [-0.000999778276309371, 0.0068456800654530525,...  \n",
       "3995  [-0.00611127819865942, 0.012579347006976604, 0...  \n",
       "3996  [-0.004946801345795393, 0.0073295957408845425,...  \n",
       "3997  [-0.011349634267389774, 0.012239346280694008, ...  \n",
       "\n",
       "[3998 rows x 5 columns]"
      ]
     },
     "execution_count": 38,
     "metadata": {},
     "output_type": "execute_result"
    }
   ],
   "source": [
    "df[\"word2vec\"] = df[\"Text_2\"].apply(on_islem.word2vec)\n"
   ]
  },
  {
   "cell_type": "code",
   "execution_count": 41,
   "id": "42ff04ec",
   "metadata": {},
   "outputs": [
    {
     "data": {
      "text/html": [
       "<div>\n",
       "<style scoped>\n",
       "    .dataframe tbody tr th:only-of-type {\n",
       "        vertical-align: middle;\n",
       "    }\n",
       "\n",
       "    .dataframe tbody tr th {\n",
       "        vertical-align: top;\n",
       "    }\n",
       "\n",
       "    .dataframe thead th {\n",
       "        text-align: right;\n",
       "    }\n",
       "</style>\n",
       "<table border=\"1\" class=\"dataframe\">\n",
       "  <thead>\n",
       "    <tr style=\"text-align: right;\">\n",
       "      <th></th>\n",
       "      <th>Text</th>\n",
       "      <th>Label</th>\n",
       "      <th>Text_2</th>\n",
       "      <th>Text_3</th>\n",
       "      <th>word2vec</th>\n",
       "    </tr>\n",
       "  </thead>\n",
       "  <tbody>\n",
       "    <tr>\n",
       "      <th>0</th>\n",
       "      <td>Allah'ım çıldıracağım. Yemin ederim çıldıracağ...</td>\n",
       "      <td>kızgın</td>\n",
       "      <td>[allah', çıldıracağım., ye, eder, çıldıracak, ...</td>\n",
       "      <td>allah' çıldıracağım. ye eder çıldıracak siniri...</td>\n",
       "      <td>[-0.006689665839076042, 0.012714986689388752, ...</td>\n",
       "    </tr>\n",
       "    <tr>\n",
       "      <th>1</th>\n",
       "      <td>site ne zaman çalıştıda ürün stokları bitti di...</td>\n",
       "      <td>kızgın</td>\n",
       "      <td>[si, zama, çalıştı, ür, stok, bit, diyor, mal,...</td>\n",
       "      <td>si zama çalıştı ür stok bit diyor mal oğl kand...</td>\n",
       "      <td>[-0.004757799208164215, 0.0037373811937868595,...</td>\n",
       "    </tr>\n",
       "    <tr>\n",
       "      <th>2</th>\n",
       "      <td>Sebebi neydi ki diye bağıracağım şimdi az kaldı</td>\n",
       "      <td>kızgın</td>\n",
       "      <td>[sebep, di, bağıracak, kal]</td>\n",
       "      <td>sebep di bağıracak kal</td>\n",
       "      <td>[-0.004013266414403915, 0.005941991228610277, ...</td>\n",
       "    </tr>\n",
       "    <tr>\n",
       "      <th>3</th>\n",
       "      <td>Black friday ne amk bu yıl çıkardınız bu bokud...</td>\n",
       "      <td>kızgın</td>\n",
       "      <td>[black, friday, amk, yıl, çıkar, boku, mal, ne...</td>\n",
       "      <td>black friday amk yıl çıkar boku mal nesiniz.</td>\n",
       "      <td>[-0.0005618534050881863, 0.010154695250093937,...</td>\n",
       "    </tr>\n",
       "    <tr>\n",
       "      <th>4</th>\n",
       "      <td>kısa kısa cevaplar vericeksen niye yazıyorsun ...</td>\n",
       "      <td>kızgın</td>\n",
       "      <td>[kıs, kıs, cevap, vericek, ni, yazıyor, gerize...</td>\n",
       "      <td>kıs kıs cevap vericek ni yazıyor gerizekal</td>\n",
       "      <td>[-0.0038584801368415356, 0.008073640987277031,...</td>\n",
       "    </tr>\n",
       "  </tbody>\n",
       "</table>\n",
       "</div>"
      ],
      "text/plain": [
       "                                                Text   Label  \\\n",
       "0  Allah'ım çıldıracağım. Yemin ederim çıldıracağ...  kızgın   \n",
       "1  site ne zaman çalıştıda ürün stokları bitti di...  kızgın   \n",
       "2    Sebebi neydi ki diye bağıracağım şimdi az kaldı  kızgın   \n",
       "3  Black friday ne amk bu yıl çıkardınız bu bokud...  kızgın   \n",
       "4  kısa kısa cevaplar vericeksen niye yazıyorsun ...  kızgın   \n",
       "\n",
       "                                              Text_2  \\\n",
       "0  [allah', çıldıracağım., ye, eder, çıldıracak, ...   \n",
       "1  [si, zama, çalıştı, ür, stok, bit, diyor, mal,...   \n",
       "2                        [sebep, di, bağıracak, kal]   \n",
       "3  [black, friday, amk, yıl, çıkar, boku, mal, ne...   \n",
       "4  [kıs, kıs, cevap, vericek, ni, yazıyor, gerize...   \n",
       "\n",
       "                                              Text_3  \\\n",
       "0  allah' çıldıracağım. ye eder çıldıracak siniri...   \n",
       "1  si zama çalıştı ür stok bit diyor mal oğl kand...   \n",
       "2                             sebep di bağıracak kal   \n",
       "3       black friday amk yıl çıkar boku mal nesiniz.   \n",
       "4         kıs kıs cevap vericek ni yazıyor gerizekal   \n",
       "\n",
       "                                            word2vec  \n",
       "0  [-0.006689665839076042, 0.012714986689388752, ...  \n",
       "1  [-0.004757799208164215, 0.0037373811937868595,...  \n",
       "2  [-0.004013266414403915, 0.005941991228610277, ...  \n",
       "3  [-0.0005618534050881863, 0.010154695250093937,...  \n",
       "4  [-0.0038584801368415356, 0.008073640987277031,...  "
      ]
     },
     "execution_count": 41,
     "metadata": {},
     "output_type": "execute_result"
    }
   ],
   "source": [
    "df.head()"
   ]
  },
  {
   "cell_type": "code",
   "execution_count": 39,
   "id": "79274ac6",
   "metadata": {},
   "outputs": [
    {
     "name": "stdout",
     "output_type": "stream",
     "text": [
      "svm accuracy score: 0.43\n",
      "svm accuracy score: 0.42542227284144873\n"
     ]
    }
   ],
   "source": [
    "msg_train, msg_test, label_train, label_test = train_test_split(df[\"word2vec\"].tolist(), df[\"Label\"].tolist(), test_size=0.2, random_state=42)\n",
    "svm = Pipeline([('svm',LinearSVC())])\n",
    "svm.fit(msg_train,label_train)\n",
    "y_pred_class = svm.predict(msg_test)\n",
    "\n",
    "print(\"svm accuracy score:\", accuracy_score(label_test,y_pred_class))\n",
    "print(\"svm accuracy score:\", f1_score(label_test,y_pred_class,average=\"weighted\"))\n"
   ]
  },
  {
   "cell_type": "code",
   "execution_count": 40,
   "id": "abee47d9",
   "metadata": {},
   "outputs": [
    {
     "data": {
      "text/plain": [
       "<sklearn.metrics._plot.confusion_matrix.ConfusionMatrixDisplay at 0x1f9a810f9d0>"
      ]
     },
     "execution_count": 40,
     "metadata": {},
     "output_type": "execute_result"
    },
    {
     "data": {
      "image/png": "[encoded data removed]",
      "text/plain": [
       "<Figure size 640x480 with 2 Axes>"
      ]
     },
     "metadata": {},
     "output_type": "display_data"
    }
   ],
   "source": [
    "cm = confusion_matrix(label_test,y_pred_class, labels=svm.classes_)\n",
    "disp = ConfusionMatrixDisplay(confusion_matrix=cm, display_labels=svm.classes_)\n",
    "disp.plot()"
   ]
  },
  {
   "cell_type": "code",
   "execution_count": 42,
   "id": "eec12943",
   "metadata": {},
   "outputs": [
    {
     "data": {
      "text/html": [
       "<div>\n",
       "<style scoped>\n",
       "    .dataframe tbody tr th:only-of-type {\n",
       "        vertical-align: middle;\n",
       "    }\n",
       "\n",
       "    .dataframe tbody tr th {\n",
       "        vertical-align: top;\n",
       "    }\n",
       "\n",
       "    .dataframe thead th {\n",
       "        text-align: right;\n",
       "    }\n",
       "</style>\n",
       "<table border=\"1\" class=\"dataframe\">\n",
       "  <thead>\n",
       "    <tr style=\"text-align: right;\">\n",
       "      <th></th>\n",
       "      <th>Text</th>\n",
       "      <th>Label</th>\n",
       "      <th>Text_2</th>\n",
       "      <th>Text_3</th>\n",
       "      <th>word2vec</th>\n",
       "    </tr>\n",
       "  </thead>\n",
       "  <tbody>\n",
       "    <tr>\n",
       "      <th>0</th>\n",
       "      <td>Allah'ım çıldıracağım. Yemin ederim çıldıracağ...</td>\n",
       "      <td>kızgın</td>\n",
       "      <td>[allah', çıldıracağım., ye, eder, çıldıracak, ...</td>\n",
       "      <td>allah' çıldıracağım. ye eder çıldıracak siniri...</td>\n",
       "      <td>[-0.006689665839076042, 0.012714986689388752, ...</td>\n",
       "    </tr>\n",
       "    <tr>\n",
       "      <th>1</th>\n",
       "      <td>site ne zaman çalıştıda ürün stokları bitti di...</td>\n",
       "      <td>kızgın</td>\n",
       "      <td>[si, zama, çalıştı, ür, stok, bit, diyor, mal,...</td>\n",
       "      <td>si zama çalıştı ür stok bit diyor mal oğl kand...</td>\n",
       "      <td>[-0.004757799208164215, 0.0037373811937868595,...</td>\n",
       "    </tr>\n",
       "    <tr>\n",
       "      <th>2</th>\n",
       "      <td>Sebebi neydi ki diye bağıracağım şimdi az kaldı</td>\n",
       "      <td>kızgın</td>\n",
       "      <td>[sebep, di, bağıracak, kal]</td>\n",
       "      <td>sebep di bağıracak kal</td>\n",
       "      <td>[-0.004013266414403915, 0.005941991228610277, ...</td>\n",
       "    </tr>\n",
       "    <tr>\n",
       "      <th>3</th>\n",
       "      <td>Black friday ne amk bu yıl çıkardınız bu bokud...</td>\n",
       "      <td>kızgın</td>\n",
       "      <td>[black, friday, amk, yıl, çıkar, boku, mal, ne...</td>\n",
       "      <td>black friday amk yıl çıkar boku mal nesiniz.</td>\n",
       "      <td>[-0.0005618534050881863, 0.010154695250093937,...</td>\n",
       "    </tr>\n",
       "    <tr>\n",
       "      <th>4</th>\n",
       "      <td>kısa kısa cevaplar vericeksen niye yazıyorsun ...</td>\n",
       "      <td>kızgın</td>\n",
       "      <td>[kıs, kıs, cevap, vericek, ni, yazıyor, gerize...</td>\n",
       "      <td>kıs kıs cevap vericek ni yazıyor gerizekal</td>\n",
       "      <td>[-0.0038584801368415356, 0.008073640987277031,...</td>\n",
       "    </tr>\n",
       "  </tbody>\n",
       "</table>\n",
       "</div>"
      ],
      "text/plain": [
       "                                                Text   Label  \\\n",
       "0  Allah'ım çıldıracağım. Yemin ederim çıldıracağ...  kızgın   \n",
       "1  site ne zaman çalıştıda ürün stokları bitti di...  kızgın   \n",
       "2    Sebebi neydi ki diye bağıracağım şimdi az kaldı  kızgın   \n",
       "3  Black friday ne amk bu yıl çıkardınız bu bokud...  kızgın   \n",
       "4  kısa kısa cevaplar vericeksen niye yazıyorsun ...  kızgın   \n",
       "\n",
       "                                              Text_2  \\\n",
       "0  [allah', çıldıracağım., ye, eder, çıldıracak, ...   \n",
       "1  [si, zama, çalıştı, ür, stok, bit, diyor, mal,...   \n",
       "2                        [sebep, di, bağıracak, kal]   \n",
       "3  [black, friday, amk, yıl, çıkar, boku, mal, ne...   \n",
       "4  [kıs, kıs, cevap, vericek, ni, yazıyor, gerize...   \n",
       "\n",
       "                                              Text_3  \\\n",
       "0  allah' çıldıracağım. ye eder çıldıracak siniri...   \n",
       "1  si zama çalıştı ür stok bit diyor mal oğl kand...   \n",
       "2                             sebep di bağıracak kal   \n",
       "3       black friday amk yıl çıkar boku mal nesiniz.   \n",
       "4         kıs kıs cevap vericek ni yazıyor gerizekal   \n",
       "\n",
       "                                            word2vec  \n",
       "0  [-0.006689665839076042, 0.012714986689388752, ...  \n",
       "1  [-0.004757799208164215, 0.0037373811937868595,...  \n",
       "2  [-0.004013266414403915, 0.005941991228610277, ...  \n",
       "3  [-0.0005618534050881863, 0.010154695250093937,...  \n",
       "4  [-0.0038584801368415356, 0.008073640987277031,...  "
      ]
     },
     "execution_count": 42,
     "metadata": {},
     "output_type": "execute_result"
    }
   ],
   "source": [
    "df.head()"
   ]
  },
  {
   "cell_type": "code",
   "execution_count": 45,
   "id": "c4bec046",
   "metadata": {},
   "outputs": [
    {
     "name": "stdout",
     "output_type": "stream",
     "text": [
      "knn accuracy score: 0.77875\n",
      "knn accuracy score: 0.7787165382343723\n"
     ]
    }
   ],
   "source": [
    "msg_train, msg_test, label_train, label_test = train_test_split(df[\"Text_3\"].tolist(), df[\"Label\"].tolist(), test_size=0.2, random_state=42)\n",
    "knn = Pipeline([(\"vect\",TfidfVectorizer()),('knn',KNeighborsClassifier())])\n",
    "knn.fit(msg_train,label_train)\n",
    "y_pred_class = knn.predict(msg_test)\n",
    "\n",
    "print(\"knn accuracy score:\", accuracy_score(label_test,y_pred_class))\n",
    "print(\"knn accuracy score:\", f1_score(label_test,y_pred_class,average=\"weighted\"))\n"
   ]
  },
  {
   "cell_type": "code",
   "execution_count": 46,
   "id": "db598ccf",
   "metadata": {},
   "outputs": [
    {
     "data": {
      "text/plain": [
       "800"
      ]
     },
     "execution_count": 46,
     "metadata": {},
     "output_type": "execute_result"
    }
   ],
   "source": [
    "len(msg_test)"
   ]
  },
  {
   "cell_type": "code",
   "execution_count": 47,
   "id": "dcfe55fa",
   "metadata": {},
   "outputs": [
    {
     "data": {
      "text/plain": [
       "616.0"
      ]
     },
     "execution_count": 47,
     "metadata": {},
     "output_type": "execute_result"
    }
   ],
   "source": [
    "800*0.77"
   ]
  },
  {
   "cell_type": "code",
   "execution_count": 48,
   "id": "3052b53d",
   "metadata": {},
   "outputs": [
    {
     "data": {
      "text/plain": [
       "<sklearn.metrics._plot.confusion_matrix.ConfusionMatrixDisplay at 0x1f9ab322350>"
      ]
     },
     "execution_count": 48,
     "metadata": {},
     "output_type": "execute_result"
    },
    {
     "data": {
      "image/png": "[encoded data removed]",
      "text/plain": [
       "<Figure size 640x480 with 2 Axes>"
      ]
     },
     "metadata": {},
     "output_type": "display_data"
    }
   ],
   "source": [
    "cm = confusion_matrix(label_test,y_pred_class, labels=svm.classes_)\n",
    "disp = ConfusionMatrixDisplay(confusion_matrix=cm, display_labels=svm.classes_)\n",
    "disp.plot()"
   ]
  },
  {
   "cell_type": "code",
   "execution_count": 49,
   "id": "dd6bc94f",
   "metadata": {},
   "outputs": [
    {
     "name": "stdout",
     "output_type": "stream",
     "text": [
      "knn accuracy score: 0.37625\n",
      "knn accuracy score: 0.3686517483171135\n"
     ]
    }
   ],
   "source": [
    "msg_train, msg_test, label_train, label_test = train_test_split(df[\"word2vec\"].tolist(), df[\"Label\"].tolist(), test_size=0.2, random_state=42)\n",
    "knn = Pipeline([('knn',KNeighborsClassifier())])\n",
    "knn.fit(msg_train,label_train)\n",
    "y_pred_class = knn.predict(msg_test)\n",
    "\n",
    "print(\"knn accuracy score:\", accuracy_score(label_test,y_pred_class))\n",
    "print(\"knn accuracy score:\", f1_score(label_test,y_pred_class,average=\"weighted\"))\n"
   ]
  },
  {
   "cell_type": "code",
   "execution_count": null,
   "id": "63e1284f",
   "metadata": {},
   "outputs": [],
   "source": []
  }
 ],
 "metadata": {
  "kernelspec": {
   "display_name": "Python 3 (ipykernel)",
   "language": "python",
   "name": "python3"
  },
  "language_info": {
   "codemirror_mode": {
    "name": "ipython",
    "version": 3
   },
   "file_extension": ".py",
   "mimetype": "text/x-python",
   "name": "python",
   "nbconvert_exporter": "python",
   "pygments_lexer": "ipython3",
   "version": "3.10.7"
  }
 },
 "nbformat": 4,
 "nbformat_minor": 5
}
