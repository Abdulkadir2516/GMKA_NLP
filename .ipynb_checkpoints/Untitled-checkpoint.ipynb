{
 "cells": [
  {
   "cell_type": "code",
   "execution_count": 2,
   "id": "55e71f00",
   "metadata": {},
   "outputs": [
    {
     "data": {
      "text/plain": [
       "\"NLP, Dilbilimci Richard Bandler ve Matematikci John Grinder tarafından 1970'li yıllarda; düşünülmeden ve otomatik olarak gerçekleştirilen algılama, düşünme ve davranış süreçlerini, bilinçli hale getirmek için yapılan araştırmalar sonucu Amerika'da geliştirilen bir davranış akımıdır. Kısaca NLP, tesadüfi olayların ardında yatan dinamiği uygulayan ve inceleyen bilim dalıdır. Bu olayların kişinin seçimi doğrultusunda bilinçli olarak programlanmasıdır.\""
      ]
     },
     "execution_count": 2,
     "metadata": {},
     "output_type": "execute_result"
    }
   ],
   "source": [
    "text = open(\"data/nlp.txt\", \"r\", encoding=\"utf-8\")\n",
    "nlp = text.read()\n",
    "nlp"
   ]
  },
  {
   "cell_type": "code",
   "execution_count": 13,
   "id": "625f9faf",
   "metadata": {},
   "outputs": [],
   "source": [
    "import pandas as pd\n",
    "import re"
   ]
  },
  {
   "cell_type": "code",
   "execution_count": 6,
   "id": "3cb0d27a",
   "metadata": {},
   "outputs": [
    {
     "data": {
      "text/html": [
       "<div>\n",
       "<style scoped>\n",
       "    .dataframe tbody tr th:only-of-type {\n",
       "        vertical-align: middle;\n",
       "    }\n",
       "\n",
       "    .dataframe tbody tr th {\n",
       "        vertical-align: top;\n",
       "    }\n",
       "\n",
       "    .dataframe thead th {\n",
       "        text-align: right;\n",
       "    }\n",
       "</style>\n",
       "<table border=\"1\" class=\"dataframe\">\n",
       "  <thead>\n",
       "    <tr style=\"text-align: right;\">\n",
       "      <th></th>\n",
       "      <th>Text</th>\n",
       "    </tr>\n",
       "  </thead>\n",
       "  <tbody>\n",
       "    <tr>\n",
       "      <th>0</th>\n",
       "      <td>Yapay Zeka Nedir, Ne İşe Yarar?\\n\\nYapay zeka ...</td>\n",
       "    </tr>\n",
       "    <tr>\n",
       "      <th>1</th>\n",
       "      <td>🔎 Verilerinizi analiz edin: \\nChatGPT'yi kulla...</td>\n",
       "    </tr>\n",
       "    <tr>\n",
       "      <th>2</th>\n",
       "      <td>Öncelikle yapay zekanın ne olduğunu, #dijitala...</td>\n",
       "    </tr>\n",
       "    <tr>\n",
       "      <th>3</th>\n",
       "      <td>9. Baidu Research: Çin'in önde gelen arama mot...</td>\n",
       "    </tr>\n",
       "    <tr>\n",
       "      <th>4</th>\n",
       "      <td>4. Microsoft AI: Microsoft'un yapay zeka tekno...</td>\n",
       "    </tr>\n",
       "  </tbody>\n",
       "</table>\n",
       "</div>"
      ],
      "text/plain": [
       "                                                Text\n",
       "0  Yapay Zeka Nedir, Ne İşe Yarar?\\n\\nYapay zeka ...\n",
       "1  🔎 Verilerinizi analiz edin: \\nChatGPT'yi kulla...\n",
       "2  Öncelikle yapay zekanın ne olduğunu, #dijitala...\n",
       "3  9. Baidu Research: Çin'in önde gelen arama mot...\n",
       "4  4. Microsoft AI: Microsoft'un yapay zeka tekno..."
      ]
     },
     "execution_count": 6,
     "metadata": {},
     "output_type": "execute_result"
    }
   ],
   "source": [
    "df = pd.read_csv(\"data/nlp.csv\", index_col=0)\n",
    "df.head()"
   ]
  },
  {
   "cell_type": "code",
   "execution_count": 9,
   "id": "ea189a10",
   "metadata": {},
   "outputs": [
    {
     "data": {
      "text/plain": [
       "'\"Yapay zeka dünyası hızla gelişiyor! Son zamanlarda, GPT-3, BERT ve benzeri doğal dil işleme modelleri ile daha da popüler hale geldi. Bu modeller, insanlar tarafından üretilen metinleri analiz ederek, dilin yapısını ve anlamını kavrayabiliyorlar.'"
      ]
     },
     "execution_count": 9,
     "metadata": {},
     "output_type": "execute_result"
    }
   ],
   "source": [
    "df.loc[100, \"Text\"]"
   ]
  },
  {
   "cell_type": "code",
   "execution_count": 12,
   "id": "5ee7f02e",
   "metadata": {},
   "outputs": [
    {
     "data": {
      "text/plain": [
       "'dene'"
      ]
     },
     "execution_count": 12,
     "metadata": {},
     "output_type": "execute_result"
    }
   ],
   "source": [
    "# sayısal verilerin kaldırılması\n",
    "def remove_numeric(value):\n",
    "    bfr = [item for item in value if not item.isdigit()]\n",
    "    bfr = \"\".join(bfr)\n",
    "    return bfr\n",
    "\n",
    "text = \"dene121\"\n",
    "remove_numeric(text)"
   ]
  },
  {
   "cell_type": "code",
   "execution_count": 14,
   "id": "488d451b",
   "metadata": {},
   "outputs": [
    {
     "data": {
      "text/plain": [
       "'dene '"
      ]
     },
     "execution_count": 14,
     "metadata": {},
     "output_type": "execute_result"
    }
   ],
   "source": [
    "# emoji verilerin kaldırılması\n",
    "def remove_emoji(value):\n",
    "    bfr = re.compile(\"[\\U00010000-\\U0010ffff]\",flags=re.UNICODE)\n",
    "    bfr = bfr.sub(r'',value)\n",
    "    return bfr\n",
    "\n",
    "text = \"dene 😊\"\n",
    "remove_emoji(text)"
   ]
  },
  {
   "cell_type": "code",
   "execution_count": 15,
   "id": "5f95f6cd",
   "metadata": {},
   "outputs": [
    {
     "data": {
      "text/plain": [
       "'dene'"
      ]
     },
     "execution_count": 15,
     "metadata": {},
     "output_type": "execute_result"
    }
   ],
   "source": [
    "# tek karakterli ifadelerin kaldırılması\n",
    "def remove_single_chracter(value):\n",
    "    return re.sub(r'(?:^| )\\w(?:$| )','',value)\n",
    "\n",
    "text = \"dene h\"\n",
    "remove_single_chracter(text)"
   ]
  },
  {
   "cell_type": "code",
   "execution_count": 16,
   "id": "751367b4",
   "metadata": {},
   "outputs": [
    {
     "data": {
      "text/plain": [
       "'dene'"
      ]
     },
     "execution_count": 16,
     "metadata": {},
     "output_type": "execute_result"
    }
   ],
   "source": [
    "# noktalama işaretlerinin kaldırılması\n",
    "def remove_noktalama(value):\n",
    "    return re.sub(r'[^\\w\\s]','',value)\n",
    "\n",
    "text = \"dene.\"\n",
    "remove_noktalama(text)"
   ]
  },
  {
   "cell_type": "code",
   "execution_count": 27,
   "id": "1da3ec73",
   "metadata": {},
   "outputs": [
    {
     "data": {
      "text/plain": [
       "'dene '"
      ]
     },
     "execution_count": 27,
     "metadata": {},
     "output_type": "execute_result"
    }
   ],
   "source": [
    "# linklerin kaldırılması\n",
    "def remove_link(value):\n",
    "    return re.sub('((www\\.[^\\s]+)|(https?://[^\\s]+))','',value)\n",
    "\n",
    "text = \"dene https://greenrock.gen.tr/\"\n",
    "remove_link(text)"
   ]
  },
  {
   "cell_type": "code",
   "execution_count": 38,
   "id": "62bd8cf0",
   "metadata": {},
   "outputs": [
    {
     "data": {
      "text/plain": [
       "'dene '"
      ]
     },
     "execution_count": 38,
     "metadata": {},
     "output_type": "execute_result"
    }
   ],
   "source": [
    "# linklerin kaldırılması\n",
    "def remove_username(value):\n",
    "    return re.sub('(@[^\\s]+)','',value)\n",
    "\n",
    "text = \"dene @username\"\n",
    "remove_username(text)"
   ]
  },
  {
   "cell_type": "code",
   "execution_count": 29,
   "id": "d2a6230c",
   "metadata": {},
   "outputs": [
    {
     "data": {
      "text/plain": [
       "'dene '"
      ]
     },
     "execution_count": 29,
     "metadata": {},
     "output_type": "execute_result"
    }
   ],
   "source": [
    "def remove_hashtag(value):\n",
    "    return re.sub(r'#[^\\s]+','',value)\n",
    "\n",
    "text = \"dene #nlp\"\n",
    "remove_hashtag(text)"
   ]
  },
  {
   "cell_type": "code",
   "execution_count": 31,
   "id": "f49699ff",
   "metadata": {},
   "outputs": [
    {
     "name": "stdout",
     "output_type": "stream",
     "text": [
      "Collecting snowballstemmer\n",
      "  Downloading snowballstemmer-2.2.0-py2.py3-none-any.whl (93 kB)\n",
      "     -------------------------------------- 93.0/93.0 kB 377.9 kB/s eta 0:00:00\n",
      "Installing collected packages: snowballstemmer\n",
      "Successfully installed snowballstemmer-2.2.0\n"
     ]
    }
   ],
   "source": [
    "#!pip install snowballstemmer"
   ]
  },
  {
   "cell_type": "code",
   "execution_count": 34,
   "id": "d5a791c9",
   "metadata": {},
   "outputs": [],
   "source": [
    "#https://github.com/sgsinclair/trombone/tree/master/src/main/resources/org/voyanttools/trombone/keywords\n",
    "\n",
    "stop_word = \"acaba altmış altı ama ancak arada aslında ayrıca az bana bazı belki ben benden beni benim beri beş bile bin bir birçok biri birkaç birkez birşey birşeyi biz bize bizden bizi bizim böyle böylece bu buna bunda bundan bunlar bunları bunların bunu bunun burada çok çünkü da daha dahi de defa değil diğer diye doksan dokuz dolayı dolayısıyla dört edecek eden ederek edilecek ediliyor edilmesi ediyor eğer elli en etmesi etti ettiği ettiğini gibi göre halen hangi hatta hem henüz hep hepsi her herhangi herkesin hiç hiçbir için iki ile ilgili ise işte itibaren itibariyle kadar karşın katrilyon kendi kendilerine kendini kendisi kendisine kendisini kez ki kim kimden kime kimi kimse kırk milyar milyon mu mü mı nasıl ne neden nedenle nerde nerede nereye niye niçin o olan olarak oldu olduğu olduğunu olduklarını olmadı olmadığı olmak olması olmayan olmaz olsa olsun olup olur olursa oluyor on ona ondan onlar onlardan onları onların onu onun otuz oysa öyle pek rağmen sadece sanki sekiz seksen sen senden seni senin siz sizden sizi sizin şey şeyden şeyi şeyler şöyle şu şuna şunda şundan şunları şunu tarafından trilyon tüm üç üzerine var vardı ve veya ya yani yapacak yapılan yapılması yapıyor yapmak yaptı yaptığı yaptığını yaptıkları yedi yerine yetmiş yine yirmi yoksa yüz zaten\"\n",
    "\n",
    "stop_word = stop_word.split()\n",
    "#print(stop_words)\n"
   ]
  },
  {
   "cell_type": "code",
   "execution_count": 36,
   "id": "294c8c12",
   "metadata": {},
   "outputs": [
    {
     "data": {
      "text/plain": [
       "\"baze faz tweet ifa etme gerekir. twitter'da tweet dizisi, kiş taraf gönderilen, birbir bağlı diz tweettir. tweet dizi faz twee birbir bağlayarak ek içerik güncelleme sunabilir konu dah ayrıntıl şekil anlatabilirsiniz.\""
      ]
     },
     "execution_count": 36,
     "metadata": {},
     "output_type": "execute_result"
    }
   ],
   "source": [
    "import snowballstemmer as sn\n",
    "\n",
    "def stem_word(value):\n",
    "    stemmer = sn.stemmer(\"turkish\")\n",
    "    value = value.lower()\n",
    "    value = stemmer.stemWords(value.split())\n",
    "    stop_words = stop_word\n",
    "    \n",
    "    value = [item for item in value if not item in stop_words]\n",
    "    value = ' '.join(value)\n",
    "    return value\n",
    "\n",
    "text = \"Bazen kendimizi birden fazla Tweette ifade etmemiz gerekir.  Twitter'da Tweet dizisi, bir kişi tarafından gönderilen, birbirine bağlı bir dizi Tweettir. Tweet dizisiyle birden fazla Tweeti birbirine bağlayarak ek içerik ve güncellemeler sunabilir veya bir konuyu daha ayrıntılı bir şekilde anlatabilirsiniz.\"\n",
    "stem_word(text)"
   ]
  },
  {
   "cell_type": "code",
   "execution_count": null,
   "id": "db785fa5",
   "metadata": {},
   "outputs": [],
   "source": [
    "def pre_processing(value):\n",
    "    return [remove_numeric(remove_emoji\n",
    "                          (remove_single_chracter\n",
    "                           (remove_link\n",
    "                            (remove_hashtag\n",
    "                             (remove_username\n",
    "                              (stem_word(word))))))) for word in value.split()]"
   ]
  },
  {
   "cell_type": "code",
   "execution_count": null,
   "id": "67a5a68e",
   "metadata": {},
   "outputs": [],
   "source": []
  },
  {
   "cell_type": "code",
   "execution_count": null,
   "id": "7670ec9e",
   "metadata": {},
   "outputs": [],
   "source": []
  }
 ],
 "metadata": {
  "kernelspec": {
   "display_name": "Python 3 (ipykernel)",
   "language": "python",
   "name": "python3"
  },
  "language_info": {
   "codemirror_mode": {
    "name": "ipython",
    "version": 3
   },
   "file_extension": ".py",
   "mimetype": "text/x-python",
   "name": "python",
   "nbconvert_exporter": "python",
   "pygments_lexer": "ipython3",
   "version": "3.10.7"
  }
 },
 "nbformat": 4,
 "nbformat_minor": 5
}
