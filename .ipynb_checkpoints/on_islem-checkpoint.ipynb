{
 "cells": [
  {
   "cell_type": "code",
   "execution_count": 2,
   "id": "d4865231",
   "metadata": {},
   "outputs": [
    {
     "data": {
      "text/plain": [
       "\"NLP, Dilbilimci Richard Bandler ve Matematikci John Grinder tarafından 1970'li yıllarda; düşünülmeden ve otomatik olarak gerçekleştirilen algılama, düşünme ve davranış süreçlerini, bilinçli hale getirmek için yapılan araştırmalar sonucu Amerika'da geliştirilen bir davranış akımıdır. Kısaca NLP, tesadüfi olayların ardında yatan dinamiği uygulayan ve inceleyen bilim dalıdır. Bu olayların kişinin seçimi doğrultusunda bilinçli olarak programlanmasıdır.\""
      ]
     },
     "execution_count": 2,
     "metadata": {},
     "output_type": "execute_result"
    }
   ],
   "source": [
    "text = open(\"data/nlp.txt\", \"r\", encoding=\"utf-8\")\n",
    "nlp = text.read()\n",
    "nlp"
   ]
  }
 ],
 "metadata": {
  "kernelspec": {
   "display_name": "Python 3 (ipykernel)",
   "language": "python",
   "name": "python3"
  },
  "language_info": {
   "codemirror_mode": {
    "name": "ipython",
    "version": 3
   },
   "file_extension": ".py",
   "mimetype": "text/x-python",
   "name": "python",
   "nbconvert_exporter": "python",
   "pygments_lexer": "ipython3",
   "version": "3.10.7"
  }
 },
 "nbformat": 4,
 "nbformat_minor": 5
}
